{
 "cells": [
  {
   "cell_type": "code",
   "execution_count": 3,
   "id": "9a493ad1-a1ff-48a2-b9c0-c0b407ea70a8",
   "metadata": {},
   "outputs": [
    {
     "name": "stdout",
     "output_type": "stream",
     "text": [
      "Email sent successfully!\n"
     ]
    }
   ],
   "source": [
    "import smtplib\n",
    "from email.mime.multipart import MIMEMultipart\n",
    "from email.mime.text import MIMEText\n",
    "from email.mime.base import MIMEBase\n",
    "from email import encoders\n",
    "\n",
    "def send_email():\n",
    "    try:\n",
    "        sender_email = \"ih772891@gmail.com\"\n",
    "        receiver_email = \"21-se-020@student.hitecuni.edu.pk\"\n",
    "        subject = \"Server Setup detail\"\n",
    "        message = \"Your server is created successfully. Here is a screenshot for your server details.\"\n",
    "        attachment_path = \"screenshort/serversetup.png\"  # Provide the full path to your attachment file\n",
    "        smtp_server = \"smtp.gmail.com\"\n",
    "        smtp_port = 587  # Change it according to your SMTP server settings\n",
    "        username = \"ih772891@gmail.com\"\n",
    "        password = \"onlg umby snlv wpos\"  # Provide the actual password\n",
    "        # Create message container - the correct MIME type is multipart/mixed.\n",
    "        msg = MIMEMultipart()\n",
    "        msg['Subject'] = subject\n",
    "        msg['From'] = sender_email\n",
    "        msg['To'] = receiver_email\n",
    "\n",
    "        # Add message body\n",
    "        msg.attach(MIMEText(message, 'plain'))\n",
    "\n",
    "        # Open the file to be sent\n",
    "        with open(attachment_path, 'rb') as attachment:\n",
    "            # Add file as application/octet-stream\n",
    "            part = MIMEBase('application', 'octet-stream')\n",
    "            part.set_payload(attachment.read())\n",
    "\n",
    "        # Encode file in ASCII characters to send by email    \n",
    "        encoders.encode_base64(part)\n",
    "        \n",
    "        # Add header as key/value pair to attachment part\n",
    "        part.add_header('Content-Disposition', f'attachment; filename= {attachment_path}')\n",
    "\n",
    "        # Add attachment to message and convert message to string\n",
    "        msg.attach(part)\n",
    "        text = msg.as_string()\n",
    "\n",
    "        # Connect to SMTP server and send email.\n",
    "        with smtplib.SMTP(smtp_server, smtp_port) as server:\n",
    "            server.starttls()\n",
    "            server.login(username, password)\n",
    "            server.sendmail(sender_email, receiver_email, text)\n",
    "        print(\"Email sent successfully!\")\n",
    "    except Exception as e:\n",
    "        print(\"An error occurred:\", e)\n",
    "\n",
    "# Example usage:\n"
   ]
  },
  {
   "cell_type": "code",
   "execution_count": 6,
   "id": "e0d90af7-f0d8-4817-a728-fdeccabcd3f9",
   "metadata": {},
   "outputs": [
    {
     "name": "stdout",
     "output_type": "stream",
     "text": [
      "Email sent successfully!\n"
     ]
    }
   ],
   "source": [
    "import smtplib\n",
    "from email.mime.multipart import MIMEMultipart\n",
    "from email.mime.text import MIMEText\n",
    "from email.mime.base import MIMEBase\n",
    "from email import encoders\n",
    "\n",
    "class EmailSender:\n",
    "    def __init__(self):\n",
    "        self.sender_email = \"ih772891@gmail.com\"\n",
    "        self.smtp_server = \"smtp.gmail.com\"\n",
    "        self.smtp_port = 587  # Change it according to your SMTP server settings\n",
    "        self.username = \"ih772891@gmail.com\"\n",
    "        self.password = \"onlg umby snlv wpos\"  # Provide the actual password\n",
    "        self.receiver_email = \"21-se-020@student.hitecuni.edu.pk\"\n",
    "        self.subject = \"Server Setup detail\"\n",
    "        self.message = \"Your server is created successfully. Here is a screenshot for your server details.\"\n",
    "        self.attachment_path = \"screenshort/serversetup.png\"  # Provide the full path to your attachment file\n",
    "\n",
    "    def send_email(self):\n",
    "        try:\n",
    "            # Create message container - the correct MIME type is multipart/mixed.\n",
    "            msg = MIMEMultipart()\n",
    "            msg['Subject'] = self.subject\n",
    "            msg['From'] = self.sender_email\n",
    "            msg['To'] = self.receiver_email\n",
    "\n",
    "            # Add message body\n",
    "            msg.attach(MIMEText(self.message, 'plain'))\n",
    "\n",
    "            # Open the file to be sent\n",
    "            with open(self.attachment_path, 'rb') as attachment:\n",
    "                # Add file as application/octet-stream\n",
    "                part = MIMEBase('application', 'octet-stream')\n",
    "                part.set_payload(attachment.read())\n",
    "\n",
    "            # Encode file in ASCII characters to send by email    \n",
    "            encoders.encode_base64(part)\n",
    "            \n",
    "            # Add header as key/value pair to attachment part\n",
    "            part.add_header('Content-Disposition', f'attachment; filename= {self.attachment_path}')\n",
    "\n",
    "            # Add attachment to message and convert message to string\n",
    "            msg.attach(part)\n",
    "            text = msg.as_string()\n",
    "\n",
    "            # Connect to SMTP server and send email.\n",
    "            with smtplib.SMTP(self.smtp_server, self.smtp_port) as server:\n",
    "                server.starttls()\n",
    "                server.login(self.username, self.password)\n",
    "                server.sendmail(self.sender_email, self.receiver_email, text)\n",
    "            print(\"Email sent successfully!\")\n",
    "        except Exception as e:\n",
    "            print(\"An error occurred:\", e)\n",
    "\n",
    "# Example usage:\n",
    "email_sender = EmailSender()\n",
    "email_sender.send_email()\n"
   ]
  },
  {
   "cell_type": "code",
   "execution_count": null,
   "id": "55c543cc-aa9f-4c54-acec-dfe13dae6197",
   "metadata": {},
   "outputs": [],
   "source": []
  }
 ],
 "metadata": {
  "kernelspec": {
   "display_name": "Python 3",
   "language": "python",
   "name": "python3"
  },
  "language_info": {
   "codemirror_mode": {
    "name": "ipython",
    "version": 3
   },
   "file_extension": ".py",
   "mimetype": "text/x-python",
   "name": "python",
   "nbconvert_exporter": "python",
   "pygments_lexer": "ipython3",
   "version": "3.7.5"
  }
 },
 "nbformat": 4,
 "nbformat_minor": 5
}
